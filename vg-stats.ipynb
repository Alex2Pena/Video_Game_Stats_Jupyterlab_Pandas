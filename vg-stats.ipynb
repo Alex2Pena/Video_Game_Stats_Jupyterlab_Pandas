{
 "metadata": {
  "language_info": {
   "codemirror_mode": {
    "name": "ipython",
    "version": 3
   },
   "file_extension": ".py",
   "mimetype": "text/x-python",
   "name": "python",
   "nbconvert_exporter": "python",
   "pygments_lexer": "ipython3",
   "version": "3.9.0-final"
  },
  "orig_nbformat": 2,
  "kernelspec": {
   "name": "python3",
   "display_name": "Python 3.9.0 64-bit ('.venv')",
   "metadata": {
    "interpreter": {
     "hash": "7cf6e0edbb8759223db811792d54a394e9f41804c58dc0a825f81a4b53544fe8"
    }
   }
  }
 },
 "nbformat": 4,
 "nbformat_minor": 2,
 "cells": [
  {
   "source": [
    "# Video Game Stats"
   ],
   "cell_type": "markdown",
   "metadata": {}
  },
  {
   "cell_type": "code",
   "execution_count": 1,
   "metadata": {},
   "outputs": [],
   "source": [
    "import pandas as pd"
   ]
  },
  {
   "cell_type": "code",
   "execution_count": 3,
   "metadata": {},
   "outputs": [
    {
     "output_type": "stream",
     "name": "stdout",
     "text": [
      "<class 'pandas.core.frame.DataFrame'>\nRangeIndex: 16598 entries, 0 to 16597\nData columns (total 11 columns):\n #   Column        Non-Null Count  Dtype  \n---  ------        --------------  -----  \n 0   Rank          16598 non-null  int64  \n 1   Name          16598 non-null  object \n 2   Platform      16598 non-null  object \n 3   Year          16327 non-null  float64\n 4   Genre         16598 non-null  object \n 5   Publisher     16540 non-null  object \n 6   NA_Sales      16598 non-null  float64\n 7   EU_Sales      16598 non-null  float64\n 8   JP_Sales      16598 non-null  float64\n 9   Other_Sales   16598 non-null  float64\n 10  Global_Sales  16598 non-null  float64\ndtypes: float64(6), int64(1), object(4)\nmemory usage: 1.4+ MB\n"
     ]
    }
   ],
   "source": [
    "df = pd.read_csv('./vgsales.csv')\n",
    "df.info()"
   ]
  },
  {
   "cell_type": "code",
   "execution_count": 5,
   "metadata": {},
   "outputs": [
    {
     "output_type": "execute_result",
     "data": {
      "text/plain": [
       "        Rank                                               Name Platform  \\\n",
       "16588  16591                                   Mega Brain Boost       DS   \n",
       "16589  16592  Chou Ezaru wa Akai Hana: Koi wa Tsuki ni Shiru...      PSV   \n",
       "16590  16593  Eiyuu Densetsu: Sora no Kiseki Material Collec...      PSP   \n",
       "16591  16594                                Myst IV: Revelation       PC   \n",
       "16592  16595                                           Plushees       DS   \n",
       "16593  16596                 Woody Woodpecker in Crazy Castle 5      GBA   \n",
       "16594  16597                      Men in Black II: Alien Escape       GC   \n",
       "16595  16598   SCORE International Baja 1000: The Official Game      PS2   \n",
       "16596  16599                                         Know How 2       DS   \n",
       "16597  16600                                   Spirits & Spells      GBA   \n",
       "\n",
       "         Year         Genre              Publisher  NA_Sales  EU_Sales  \\\n",
       "16588  2008.0        Puzzle  Majesco Entertainment      0.01      0.00   \n",
       "16589  2016.0        Action        dramatic create      0.00      0.00   \n",
       "16590  2007.0  Role-Playing     Falcom Corporation      0.00      0.00   \n",
       "16591  2004.0     Adventure                Ubisoft      0.01      0.00   \n",
       "16592  2008.0    Simulation              Destineer      0.01      0.00   \n",
       "16593  2002.0      Platform                  Kemco      0.01      0.00   \n",
       "16594  2003.0       Shooter             Infogrames      0.01      0.00   \n",
       "16595  2008.0        Racing             Activision      0.00      0.00   \n",
       "16596  2010.0        Puzzle               7G//AMES      0.00      0.01   \n",
       "16597  2003.0      Platform                Wanadoo      0.01      0.00   \n",
       "\n",
       "       JP_Sales  Other_Sales  Global_Sales  \n",
       "16588      0.00          0.0          0.01  \n",
       "16589      0.01          0.0          0.01  \n",
       "16590      0.01          0.0          0.01  \n",
       "16591      0.00          0.0          0.01  \n",
       "16592      0.00          0.0          0.01  \n",
       "16593      0.00          0.0          0.01  \n",
       "16594      0.00          0.0          0.01  \n",
       "16595      0.00          0.0          0.01  \n",
       "16596      0.00          0.0          0.01  \n",
       "16597      0.00          0.0          0.01  "
      ],
      "text/html": "<div>\n<style scoped>\n    .dataframe tbody tr th:only-of-type {\n        vertical-align: middle;\n    }\n\n    .dataframe tbody tr th {\n        vertical-align: top;\n    }\n\n    .dataframe thead th {\n        text-align: right;\n    }\n</style>\n<table border=\"1\" class=\"dataframe\">\n  <thead>\n    <tr style=\"text-align: right;\">\n      <th></th>\n      <th>Rank</th>\n      <th>Name</th>\n      <th>Platform</th>\n      <th>Year</th>\n      <th>Genre</th>\n      <th>Publisher</th>\n      <th>NA_Sales</th>\n      <th>EU_Sales</th>\n      <th>JP_Sales</th>\n      <th>Other_Sales</th>\n      <th>Global_Sales</th>\n    </tr>\n  </thead>\n  <tbody>\n    <tr>\n      <th>16588</th>\n      <td>16591</td>\n      <td>Mega Brain Boost</td>\n      <td>DS</td>\n      <td>2008.0</td>\n      <td>Puzzle</td>\n      <td>Majesco Entertainment</td>\n      <td>0.01</td>\n      <td>0.00</td>\n      <td>0.00</td>\n      <td>0.0</td>\n      <td>0.01</td>\n    </tr>\n    <tr>\n      <th>16589</th>\n      <td>16592</td>\n      <td>Chou Ezaru wa Akai Hana: Koi wa Tsuki ni Shiru...</td>\n      <td>PSV</td>\n      <td>2016.0</td>\n      <td>Action</td>\n      <td>dramatic create</td>\n      <td>0.00</td>\n      <td>0.00</td>\n      <td>0.01</td>\n      <td>0.0</td>\n      <td>0.01</td>\n    </tr>\n    <tr>\n      <th>16590</th>\n      <td>16593</td>\n      <td>Eiyuu Densetsu: Sora no Kiseki Material Collec...</td>\n      <td>PSP</td>\n      <td>2007.0</td>\n      <td>Role-Playing</td>\n      <td>Falcom Corporation</td>\n      <td>0.00</td>\n      <td>0.00</td>\n      <td>0.01</td>\n      <td>0.0</td>\n      <td>0.01</td>\n    </tr>\n    <tr>\n      <th>16591</th>\n      <td>16594</td>\n      <td>Myst IV: Revelation</td>\n      <td>PC</td>\n      <td>2004.0</td>\n      <td>Adventure</td>\n      <td>Ubisoft</td>\n      <td>0.01</td>\n      <td>0.00</td>\n      <td>0.00</td>\n      <td>0.0</td>\n      <td>0.01</td>\n    </tr>\n    <tr>\n      <th>16592</th>\n      <td>16595</td>\n      <td>Plushees</td>\n      <td>DS</td>\n      <td>2008.0</td>\n      <td>Simulation</td>\n      <td>Destineer</td>\n      <td>0.01</td>\n      <td>0.00</td>\n      <td>0.00</td>\n      <td>0.0</td>\n      <td>0.01</td>\n    </tr>\n    <tr>\n      <th>16593</th>\n      <td>16596</td>\n      <td>Woody Woodpecker in Crazy Castle 5</td>\n      <td>GBA</td>\n      <td>2002.0</td>\n      <td>Platform</td>\n      <td>Kemco</td>\n      <td>0.01</td>\n      <td>0.00</td>\n      <td>0.00</td>\n      <td>0.0</td>\n      <td>0.01</td>\n    </tr>\n    <tr>\n      <th>16594</th>\n      <td>16597</td>\n      <td>Men in Black II: Alien Escape</td>\n      <td>GC</td>\n      <td>2003.0</td>\n      <td>Shooter</td>\n      <td>Infogrames</td>\n      <td>0.01</td>\n      <td>0.00</td>\n      <td>0.00</td>\n      <td>0.0</td>\n      <td>0.01</td>\n    </tr>\n    <tr>\n      <th>16595</th>\n      <td>16598</td>\n      <td>SCORE International Baja 1000: The Official Game</td>\n      <td>PS2</td>\n      <td>2008.0</td>\n      <td>Racing</td>\n      <td>Activision</td>\n      <td>0.00</td>\n      <td>0.00</td>\n      <td>0.00</td>\n      <td>0.0</td>\n      <td>0.01</td>\n    </tr>\n    <tr>\n      <th>16596</th>\n      <td>16599</td>\n      <td>Know How 2</td>\n      <td>DS</td>\n      <td>2010.0</td>\n      <td>Puzzle</td>\n      <td>7G//AMES</td>\n      <td>0.00</td>\n      <td>0.01</td>\n      <td>0.00</td>\n      <td>0.0</td>\n      <td>0.01</td>\n    </tr>\n    <tr>\n      <th>16597</th>\n      <td>16600</td>\n      <td>Spirits &amp; Spells</td>\n      <td>GBA</td>\n      <td>2003.0</td>\n      <td>Platform</td>\n      <td>Wanadoo</td>\n      <td>0.01</td>\n      <td>0.00</td>\n      <td>0.00</td>\n      <td>0.0</td>\n      <td>0.01</td>\n    </tr>\n  </tbody>\n</table>\n</div>"
     },
     "metadata": {},
     "execution_count": 5
    }
   ],
   "source": [
    "df.head(10)\n",
    "df.tail(10)"
   ]
  },
  {
   "cell_type": "code",
   "execution_count": 9,
   "metadata": {},
   "outputs": [
    {
     "output_type": "execute_result",
     "data": {
      "text/plain": [
       "                                                   Name    Year\n",
       "0                                            Wii Sports  2006.0\n",
       "1                                     Super Mario Bros.  1985.0\n",
       "2                                        Mario Kart Wii  2008.0\n",
       "3                                     Wii Sports Resort  2009.0\n",
       "4                              Pokemon Red/Pokemon Blue  1996.0\n",
       "...                                                 ...     ...\n",
       "16593                Woody Woodpecker in Crazy Castle 5  2002.0\n",
       "16594                     Men in Black II: Alien Escape  2003.0\n",
       "16595  SCORE International Baja 1000: The Official Game  2008.0\n",
       "16596                                        Know How 2  2010.0\n",
       "16597                                  Spirits & Spells  2003.0\n",
       "\n",
       "[16598 rows x 2 columns]"
      ],
      "text/html": "<div>\n<style scoped>\n    .dataframe tbody tr th:only-of-type {\n        vertical-align: middle;\n    }\n\n    .dataframe tbody tr th {\n        vertical-align: top;\n    }\n\n    .dataframe thead th {\n        text-align: right;\n    }\n</style>\n<table border=\"1\" class=\"dataframe\">\n  <thead>\n    <tr style=\"text-align: right;\">\n      <th></th>\n      <th>Name</th>\n      <th>Year</th>\n    </tr>\n  </thead>\n  <tbody>\n    <tr>\n      <th>0</th>\n      <td>Wii Sports</td>\n      <td>2006.0</td>\n    </tr>\n    <tr>\n      <th>1</th>\n      <td>Super Mario Bros.</td>\n      <td>1985.0</td>\n    </tr>\n    <tr>\n      <th>2</th>\n      <td>Mario Kart Wii</td>\n      <td>2008.0</td>\n    </tr>\n    <tr>\n      <th>3</th>\n      <td>Wii Sports Resort</td>\n      <td>2009.0</td>\n    </tr>\n    <tr>\n      <th>4</th>\n      <td>Pokemon Red/Pokemon Blue</td>\n      <td>1996.0</td>\n    </tr>\n    <tr>\n      <th>...</th>\n      <td>...</td>\n      <td>...</td>\n    </tr>\n    <tr>\n      <th>16593</th>\n      <td>Woody Woodpecker in Crazy Castle 5</td>\n      <td>2002.0</td>\n    </tr>\n    <tr>\n      <th>16594</th>\n      <td>Men in Black II: Alien Escape</td>\n      <td>2003.0</td>\n    </tr>\n    <tr>\n      <th>16595</th>\n      <td>SCORE International Baja 1000: The Official Game</td>\n      <td>2008.0</td>\n    </tr>\n    <tr>\n      <th>16596</th>\n      <td>Know How 2</td>\n      <td>2010.0</td>\n    </tr>\n    <tr>\n      <th>16597</th>\n      <td>Spirits &amp; Spells</td>\n      <td>2003.0</td>\n    </tr>\n  </tbody>\n</table>\n<p>16598 rows × 2 columns</p>\n</div>"
     },
     "metadata": {},
     "execution_count": 9
    }
   ],
   "source": [
    "df[[\"Name\", \"Year\"]]"
   ]
  },
  {
   "cell_type": "code",
   "execution_count": 10,
   "metadata": {},
   "outputs": [
    {
     "output_type": "execute_result",
     "data": {
      "text/plain": [
       "                                                   Rank Platform    Year  \\\n",
       "Name                                                                       \n",
       "Wii Sports                                            1      Wii  2006.0   \n",
       "Super Mario Bros.                                     2      NES  1985.0   \n",
       "Mario Kart Wii                                        3      Wii  2008.0   \n",
       "Wii Sports Resort                                     4      Wii  2009.0   \n",
       "Pokemon Red/Pokemon Blue                              5       GB  1996.0   \n",
       "...                                                 ...      ...     ...   \n",
       "Woody Woodpecker in Crazy Castle 5                16596      GBA  2002.0   \n",
       "Men in Black II: Alien Escape                     16597       GC  2003.0   \n",
       "SCORE International Baja 1000: The Official Game  16598      PS2  2008.0   \n",
       "Know How 2                                        16599       DS  2010.0   \n",
       "Spirits & Spells                                  16600      GBA  2003.0   \n",
       "\n",
       "                                                         Genre   Publisher  \\\n",
       "Name                                                                         \n",
       "Wii Sports                                              Sports    Nintendo   \n",
       "Super Mario Bros.                                     Platform    Nintendo   \n",
       "Mario Kart Wii                                          Racing    Nintendo   \n",
       "Wii Sports Resort                                       Sports    Nintendo   \n",
       "Pokemon Red/Pokemon Blue                          Role-Playing    Nintendo   \n",
       "...                                                        ...         ...   \n",
       "Woody Woodpecker in Crazy Castle 5                    Platform       Kemco   \n",
       "Men in Black II: Alien Escape                          Shooter  Infogrames   \n",
       "SCORE International Baja 1000: The Official Game        Racing  Activision   \n",
       "Know How 2                                              Puzzle    7G//AMES   \n",
       "Spirits & Spells                                      Platform     Wanadoo   \n",
       "\n",
       "                                                  NA_Sales  EU_Sales  \\\n",
       "Name                                                                   \n",
       "Wii Sports                                           41.49     29.02   \n",
       "Super Mario Bros.                                    29.08      3.58   \n",
       "Mario Kart Wii                                       15.85     12.88   \n",
       "Wii Sports Resort                                    15.75     11.01   \n",
       "Pokemon Red/Pokemon Blue                             11.27      8.89   \n",
       "...                                                    ...       ...   \n",
       "Woody Woodpecker in Crazy Castle 5                    0.01      0.00   \n",
       "Men in Black II: Alien Escape                         0.01      0.00   \n",
       "SCORE International Baja 1000: The Official Game      0.00      0.00   \n",
       "Know How 2                                            0.00      0.01   \n",
       "Spirits & Spells                                      0.01      0.00   \n",
       "\n",
       "                                                  JP_Sales  Other_Sales  \\\n",
       "Name                                                                      \n",
       "Wii Sports                                            3.77         8.46   \n",
       "Super Mario Bros.                                     6.81         0.77   \n",
       "Mario Kart Wii                                        3.79         3.31   \n",
       "Wii Sports Resort                                     3.28         2.96   \n",
       "Pokemon Red/Pokemon Blue                             10.22         1.00   \n",
       "...                                                    ...          ...   \n",
       "Woody Woodpecker in Crazy Castle 5                    0.00         0.00   \n",
       "Men in Black II: Alien Escape                         0.00         0.00   \n",
       "SCORE International Baja 1000: The Official Game      0.00         0.00   \n",
       "Know How 2                                            0.00         0.00   \n",
       "Spirits & Spells                                      0.00         0.00   \n",
       "\n",
       "                                                  Global_Sales  \n",
       "Name                                                            \n",
       "Wii Sports                                               82.74  \n",
       "Super Mario Bros.                                        40.24  \n",
       "Mario Kart Wii                                           35.82  \n",
       "Wii Sports Resort                                        33.00  \n",
       "Pokemon Red/Pokemon Blue                                 31.37  \n",
       "...                                                        ...  \n",
       "Woody Woodpecker in Crazy Castle 5                        0.01  \n",
       "Men in Black II: Alien Escape                             0.01  \n",
       "SCORE International Baja 1000: The Official Game          0.01  \n",
       "Know How 2                                                0.01  \n",
       "Spirits & Spells                                          0.01  \n",
       "\n",
       "[16598 rows x 10 columns]"
      ],
      "text/html": "<div>\n<style scoped>\n    .dataframe tbody tr th:only-of-type {\n        vertical-align: middle;\n    }\n\n    .dataframe tbody tr th {\n        vertical-align: top;\n    }\n\n    .dataframe thead th {\n        text-align: right;\n    }\n</style>\n<table border=\"1\" class=\"dataframe\">\n  <thead>\n    <tr style=\"text-align: right;\">\n      <th></th>\n      <th>Rank</th>\n      <th>Platform</th>\n      <th>Year</th>\n      <th>Genre</th>\n      <th>Publisher</th>\n      <th>NA_Sales</th>\n      <th>EU_Sales</th>\n      <th>JP_Sales</th>\n      <th>Other_Sales</th>\n      <th>Global_Sales</th>\n    </tr>\n    <tr>\n      <th>Name</th>\n      <th></th>\n      <th></th>\n      <th></th>\n      <th></th>\n      <th></th>\n      <th></th>\n      <th></th>\n      <th></th>\n      <th></th>\n      <th></th>\n    </tr>\n  </thead>\n  <tbody>\n    <tr>\n      <th>Wii Sports</th>\n      <td>1</td>\n      <td>Wii</td>\n      <td>2006.0</td>\n      <td>Sports</td>\n      <td>Nintendo</td>\n      <td>41.49</td>\n      <td>29.02</td>\n      <td>3.77</td>\n      <td>8.46</td>\n      <td>82.74</td>\n    </tr>\n    <tr>\n      <th>Super Mario Bros.</th>\n      <td>2</td>\n      <td>NES</td>\n      <td>1985.0</td>\n      <td>Platform</td>\n      <td>Nintendo</td>\n      <td>29.08</td>\n      <td>3.58</td>\n      <td>6.81</td>\n      <td>0.77</td>\n      <td>40.24</td>\n    </tr>\n    <tr>\n      <th>Mario Kart Wii</th>\n      <td>3</td>\n      <td>Wii</td>\n      <td>2008.0</td>\n      <td>Racing</td>\n      <td>Nintendo</td>\n      <td>15.85</td>\n      <td>12.88</td>\n      <td>3.79</td>\n      <td>3.31</td>\n      <td>35.82</td>\n    </tr>\n    <tr>\n      <th>Wii Sports Resort</th>\n      <td>4</td>\n      <td>Wii</td>\n      <td>2009.0</td>\n      <td>Sports</td>\n      <td>Nintendo</td>\n      <td>15.75</td>\n      <td>11.01</td>\n      <td>3.28</td>\n      <td>2.96</td>\n      <td>33.00</td>\n    </tr>\n    <tr>\n      <th>Pokemon Red/Pokemon Blue</th>\n      <td>5</td>\n      <td>GB</td>\n      <td>1996.0</td>\n      <td>Role-Playing</td>\n      <td>Nintendo</td>\n      <td>11.27</td>\n      <td>8.89</td>\n      <td>10.22</td>\n      <td>1.00</td>\n      <td>31.37</td>\n    </tr>\n    <tr>\n      <th>...</th>\n      <td>...</td>\n      <td>...</td>\n      <td>...</td>\n      <td>...</td>\n      <td>...</td>\n      <td>...</td>\n      <td>...</td>\n      <td>...</td>\n      <td>...</td>\n      <td>...</td>\n    </tr>\n    <tr>\n      <th>Woody Woodpecker in Crazy Castle 5</th>\n      <td>16596</td>\n      <td>GBA</td>\n      <td>2002.0</td>\n      <td>Platform</td>\n      <td>Kemco</td>\n      <td>0.01</td>\n      <td>0.00</td>\n      <td>0.00</td>\n      <td>0.00</td>\n      <td>0.01</td>\n    </tr>\n    <tr>\n      <th>Men in Black II: Alien Escape</th>\n      <td>16597</td>\n      <td>GC</td>\n      <td>2003.0</td>\n      <td>Shooter</td>\n      <td>Infogrames</td>\n      <td>0.01</td>\n      <td>0.00</td>\n      <td>0.00</td>\n      <td>0.00</td>\n      <td>0.01</td>\n    </tr>\n    <tr>\n      <th>SCORE International Baja 1000: The Official Game</th>\n      <td>16598</td>\n      <td>PS2</td>\n      <td>2008.0</td>\n      <td>Racing</td>\n      <td>Activision</td>\n      <td>0.00</td>\n      <td>0.00</td>\n      <td>0.00</td>\n      <td>0.00</td>\n      <td>0.01</td>\n    </tr>\n    <tr>\n      <th>Know How 2</th>\n      <td>16599</td>\n      <td>DS</td>\n      <td>2010.0</td>\n      <td>Puzzle</td>\n      <td>7G//AMES</td>\n      <td>0.00</td>\n      <td>0.01</td>\n      <td>0.00</td>\n      <td>0.00</td>\n      <td>0.01</td>\n    </tr>\n    <tr>\n      <th>Spirits &amp; Spells</th>\n      <td>16600</td>\n      <td>GBA</td>\n      <td>2003.0</td>\n      <td>Platform</td>\n      <td>Wanadoo</td>\n      <td>0.01</td>\n      <td>0.00</td>\n      <td>0.00</td>\n      <td>0.00</td>\n      <td>0.01</td>\n    </tr>\n  </tbody>\n</table>\n<p>16598 rows × 10 columns</p>\n</div>"
     },
     "metadata": {},
     "execution_count": 10
    }
   ],
   "source": [
    "df.set_index(\"Name\")"
   ]
  },
  {
   "cell_type": "code",
   "execution_count": 16,
   "metadata": {},
   "outputs": [],
   "source": [
    "most_common_publisher = df[[\"Publisher\", \"Global_Sales\"]].sort_values(\"Global_Sales\", ascending=False)"
   ]
  },
  {
   "cell_type": "code",
   "execution_count": 17,
   "metadata": {},
   "outputs": [
    {
     "output_type": "stream",
     "name": "stdout",
     "text": [
      "                         Publisher  Global_Sales\n0                         Nintendo         82.74\n1                         Nintendo         40.24\n2                         Nintendo         35.82\n3                         Nintendo         33.00\n4                         Nintendo         31.37\n...                            ...           ...\n16186              Electronic Arts          0.01\n16187                    Avanquest          0.01\n16188  Sony Computer Entertainment          0.01\n16189                         Sega          0.01\n16597                      Wanadoo          0.01\n\n[16598 rows x 2 columns]\n"
     ]
    }
   ],
   "source": [
    "print(most_common_publisher)"
   ]
  },
  {
   "cell_type": "code",
   "execution_count": 20,
   "metadata": {},
   "outputs": [],
   "source": [
    "most_common_platform = df[[\"Platform\", \"Global_Sales\"]].sort_values(\"Global_Sales\", ascending=False)"
   ]
  },
  {
   "cell_type": "code",
   "execution_count": 21,
   "metadata": {},
   "outputs": [
    {
     "output_type": "stream",
     "name": "stdout",
     "text": [
      "      Platform  Global_Sales\n0          Wii         82.74\n1          NES         40.24\n2          Wii         35.82\n3          Wii         33.00\n4           GB         31.37\n...        ...           ...\n16186       PC          0.01\n16187       PC          0.01\n16188      PS3          0.01\n16189       PC          0.01\n16597      GBA          0.01\n\n[16598 rows x 2 columns]\n"
     ]
    }
   ],
   "source": [
    "print(most_common_platform)"
   ]
  },
  {
   "cell_type": "code",
   "execution_count": 22,
   "metadata": {},
   "outputs": [],
   "source": [
    "most_common_genre = df[[\"Genre\", \"Global_Sales\"]].sort_values(\"Global_Sales\", ascending=False)"
   ]
  },
  {
   "cell_type": "code",
   "execution_count": 23,
   "metadata": {},
   "outputs": [
    {
     "output_type": "stream",
     "name": "stdout",
     "text": [
      "              Genre  Global_Sales\n0            Sports         82.74\n1          Platform         40.24\n2            Racing         35.82\n3            Sports         33.00\n4      Role-Playing         31.37\n...             ...           ...\n16186      Strategy          0.01\n16187        Puzzle          0.01\n16188          Misc          0.01\n16189        Racing          0.01\n16597      Platform          0.01\n\n[16598 rows x 2 columns]\n"
     ]
    }
   ],
   "source": [
    "print(most_common_genre)"
   ]
  },
  {
   "cell_type": "code",
   "execution_count": 24,
   "metadata": {},
   "outputs": [],
   "source": [
    "highest_grossing_game = df[[\"Name\", \"Global_Sales\"]].sort_values(\"Global_Sales\", ascending=False)"
   ]
  },
  {
   "cell_type": "code",
   "execution_count": 25,
   "metadata": {},
   "outputs": [
    {
     "output_type": "stream",
     "name": "stdout",
     "text": [
      "                                       Name  Global_Sales\n0                                Wii Sports         82.74\n1                         Super Mario Bros.         40.24\n2                            Mario Kart Wii         35.82\n3                         Wii Sports Resort         33.00\n4                  Pokemon Red/Pokemon Blue         31.37\n...                                     ...           ...\n16186                           BattleForge          0.01\n16187                        Jewel Quest II          0.01\n16188                      Toro to Morimori          0.01\n16189  Sonic & All-Stars Racing Transformed          0.01\n16597                      Spirits & Spells          0.01\n\n[16598 rows x 2 columns]\n"
     ]
    }
   ],
   "source": [
    "print(highest_grossing_game)"
   ]
  },
  {
   "cell_type": "code",
   "execution_count": null,
   "metadata": {},
   "outputs": [],
   "source": []
  }
 ]
}